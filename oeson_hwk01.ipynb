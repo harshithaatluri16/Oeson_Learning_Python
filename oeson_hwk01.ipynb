{
 "cells": [
  {
   "cell_type": "code",
   "execution_count": 7,
   "id": "9bfc5539-cc2c-4e11-8b5f-3e05e983bfd9",
   "metadata": {},
   "outputs": [],
   "source": [
    "a=\"Harshitha\""
   ]
  },
  {
   "cell_type": "code",
   "execution_count": 9,
   "id": "4c3dea9b-38de-4df4-b104-cd41a7f2123f",
   "metadata": {},
   "outputs": [
    {
     "name": "stdout",
     "output_type": "stream",
     "text": [
      "Harshitha\n"
     ]
    }
   ],
   "source": [
    "print(a)"
   ]
  },
  {
   "cell_type": "code",
   "execution_count": 11,
   "id": "cc3f6956-4c9b-415d-8c5b-0e01d186ccfa",
   "metadata": {},
   "outputs": [
    {
     "data": {
      "text/plain": [
       "str"
      ]
     },
     "execution_count": 11,
     "metadata": {},
     "output_type": "execute_result"
    }
   ],
   "source": [
    "type(a)"
   ]
  },
  {
   "cell_type": "code",
   "execution_count": 13,
   "id": "d3f42311-914d-4d29-81c2-04b762443d2f",
   "metadata": {},
   "outputs": [],
   "source": [
    "x=True"
   ]
  },
  {
   "cell_type": "code",
   "execution_count": 15,
   "id": "8741d68d-707a-4931-8da9-888dcbe91657",
   "metadata": {},
   "outputs": [
    {
     "data": {
      "text/plain": [
       "bool"
      ]
     },
     "execution_count": 15,
     "metadata": {},
     "output_type": "execute_result"
    }
   ],
   "source": [
    "type(x)"
   ]
  },
  {
   "cell_type": "code",
   "execution_count": 17,
   "id": "397051fe-e9c4-47a9-a08a-f4274520f5c4",
   "metadata": {},
   "outputs": [
    {
     "data": {
      "text/plain": [
       "21.5"
      ]
     },
     "execution_count": 17,
     "metadata": {},
     "output_type": "execute_result"
    }
   ],
   "source": [
    "True+6+14.5 "
   ]
  },
  {
   "cell_type": "code",
   "execution_count": 19,
   "id": "f32b5735-2385-4309-b71c-de832f6d63f4",
   "metadata": {},
   "outputs": [
    {
     "data": {
      "text/plain": [
       "False"
      ]
     },
     "execution_count": 19,
     "metadata": {},
     "output_type": "execute_result"
    }
   ],
   "source": [
    "bool(0)"
   ]
  },
  {
   "cell_type": "code",
   "execution_count": 21,
   "id": "f7a2f897-779a-4716-aabc-93436db626ba",
   "metadata": {},
   "outputs": [
    {
     "name": "stdout",
     "output_type": "stream",
     "text": [
      "8\n"
     ]
    }
   ],
   "source": [
    "a=5\n",
    "a+=3 \n",
    "print(a)"
   ]
  },
  {
   "cell_type": "code",
   "execution_count": 23,
   "id": "a4f5f0a6-3985-4799-a8d8-664fceebf7c4",
   "metadata": {},
   "outputs": [
    {
     "name": "stdout",
     "output_type": "stream",
     "text": [
      "2\n"
     ]
    }
   ],
   "source": [
    "b=5\n",
    "b-=3 \n",
    "print(b)"
   ]
  },
  {
   "cell_type": "code",
   "execution_count": 25,
   "id": "6605a6ca-d838-44cc-a2de-18640835c370",
   "metadata": {},
   "outputs": [
    {
     "name": "stdout",
     "output_type": "stream",
     "text": [
      "15\n"
     ]
    }
   ],
   "source": [
    "c=5\n",
    "c*=3 \n",
    "print(c)"
   ]
  },
  {
   "cell_type": "code",
   "execution_count": 27,
   "id": "1b6da2a5-ad7d-4f87-8028-b35adb6a4089",
   "metadata": {},
   "outputs": [
    {
     "name": "stdout",
     "output_type": "stream",
     "text": [
      "1.6666666666666667\n"
     ]
    }
   ],
   "source": [
    "d=5\n",
    "d/=3 #  a division\n",
    "print(d)"
   ]
  },
  {
   "cell_type": "code",
   "execution_count": 29,
   "id": "1e6907b8-6f97-4342-b6b4-f1ff3db2f17a",
   "metadata": {},
   "outputs": [
    {
     "name": "stdout",
     "output_type": "stream",
     "text": [
      "2\n"
     ]
    }
   ],
   "source": [
    "e=5\n",
    "e%=3 #  a modulo\n",
    "print(e)"
   ]
  },
  {
   "cell_type": "code",
   "execution_count": 31,
   "id": "ffe32261-d1e8-411e-9667-9a8064868191",
   "metadata": {},
   "outputs": [
    {
     "name": "stdout",
     "output_type": "stream",
     "text": [
      "5\n"
     ]
    }
   ],
   "source": [
    "f=5\n",
    "f**3 #  an exponent\n",
    "print(f)"
   ]
  },
  {
   "cell_type": "code",
   "execution_count": 33,
   "id": "6fd2e965-1dd0-47e9-9386-25ae8d329898",
   "metadata": {},
   "outputs": [
    {
     "name": "stdout",
     "output_type": "stream",
     "text": [
      "1\n"
     ]
    }
   ],
   "source": [
    "g=5\n",
    "g//=3 #  floor division\n",
    "print(g)"
   ]
  },
  {
   "cell_type": "code",
   "execution_count": 35,
   "id": "57e38f68-1133-441f-aeca-7550a058ecdf",
   "metadata": {},
   "outputs": [
    {
     "name": "stdout",
     "output_type": "stream",
     "text": [
      "False\n",
      "True\n",
      "False\n",
      "True\n",
      "False\n",
      "True\n"
     ]
    }
   ],
   "source": [
    "## comparison operators \n",
    "x= 5\n",
    "y=10\n",
    "print(y==x) ##False\n",
    "print(y!=x) ## True\n",
    "print(x>y) ## False\n",
    "print(x<y) ##True\n",
    "print(x>=y) ## False\n",
    "print(x<=y) ## True"
   ]
  },
  {
   "cell_type": "code",
   "execution_count": 37,
   "id": "20cdaea5-4287-4764-8471-8bb48a836159",
   "metadata": {},
   "outputs": [
    {
     "name": "stdout",
     "output_type": "stream",
     "text": [
      "False\n",
      "True\n",
      "False\n"
     ]
    }
   ],
   "source": [
    "## Logical operators\n",
    "a=True\n",
    "b=False\n",
    "c=True\n",
    "print(a and b) ## output False -- because they are different \n",
    "print(a or b) ## output True -- because at least one is true \n",
    "print(not a) ## Output False -- because a is True"
   ]
  },
  {
   "cell_type": "code",
   "execution_count": 40,
   "id": "277aa54c-7e99-485a-8d59-7805e7919f7f",
   "metadata": {},
   "outputs": [],
   "source": [
    "b = \"Machine learning is fascinating\"  # M is 0, spaces count as characters, so 1 = first space \n",
    "# for inverse, 0 stays the same, -1 is g at the end of fascinating"
   ]
  },
  {
   "cell_type": "code",
   "execution_count": 42,
   "id": "be854883-2909-4efb-97e8-9304f28354f6",
   "metadata": {},
   "outputs": [
    {
     "name": "stdout",
     "output_type": "stream",
     "text": [
      "Machine learning is fascinating\n",
      "hine\n",
      "earning is fascinating\n",
      "Machine lear\n",
      "ascinating\n",
      "Machine learning is fas\n"
     ]
    }
   ],
   "source": [
    "print(b)\n",
    "print(b[3:7])  # will print hine as 7 is a space\n",
    "print(b[9:])  # will print from 9 onward as no end is described \n",
    "print(b[:12])  # will print everything before the 12th character as no start is suggested\n",
    "\n",
    "# inverses:\n",
    "print(b[-10:])  # will print everything after the 10th character from the end \n",
    "print(b[:-8])  # will print everything before the 8th character from the end "
   ]
  },
  {
   "cell_type": "code",
   "execution_count": 44,
   "id": "f1dec85d-f611-4c04-9d89-0a8041bf2185",
   "metadata": {},
   "outputs": [
    {
     "name": "stdout",
     "output_type": "stream",
     "text": [
      "Science\n",
      "Data\n",
      "Dacn\n"
     ]
    }
   ],
   "source": [
    "# slicing a string further\n",
    "\n",
    "text = \"Data Science\"\n",
    "text_slice = text[5:]  # from the 5th character onward\n",
    "print(text_slice)\n",
    "\n",
    "text_slice_2 = text[:4]  # before 4\n",
    "print(text_slice_2)\n",
    "\n",
    "text_slice_3 = text[::3]  # prints every letter from the start and then every third character following\n",
    "print(text_slice_3)"
   ]
  },
  {
   "cell_type": "code",
   "execution_count": 46,
   "id": "e5d90c4f-0c69-4118-8b15-4e791c506266",
   "metadata": {},
   "outputs": [
    {
     "name": "stdout",
     "output_type": "stream",
     "text": [
      "[20, 30, 40, 50]\n",
      "[50, 60, 70, 80, 90, 100]\n",
      "[10, 20, 30, 40, 50, 60]\n"
     ]
    }
   ],
   "source": [
    "# in a list\n",
    "num_list = [10, 20, 30, 40, 50, 60, 70, 80, 90, 100]\n",
    "list_slice_1 = num_list[1:5]  # creates a sublist\n",
    "\n",
    "print(list_slice_1)\n",
    "\n",
    "list_slice_2 = num_list[4:]\n",
    "print(list_slice_2)\n",
    "\n",
    "list_slice_3 = num_list[:6]\n",
    "print(list_slice_3)"
   ]
  },
  {
   "cell_type": "code",
   "execution_count": 48,
   "id": "49754c71-c701-402f-9c18-266fdbee818a",
   "metadata": {},
   "outputs": [
    {
     "name": "stdout",
     "output_type": "stream",
     "text": [
      "[10, 30, 50, 70, 90]\n",
      "[10, 40, 70, 100]\n"
     ]
    }
   ],
   "source": [
    "# creating steps so you only get the element every x steps\n",
    "list_slice_4 = num_list[::2]  # starts at the beginning and prints every second element\n",
    "print(list_slice_4)\n",
    "\n",
    "list_slice_5 = num_list[::3]  # prints every third element\n",
    "print(list_slice_5)"
   ]
  },
  {
   "cell_type": "code",
   "execution_count": 50,
   "id": "06993d18-acd4-429e-9b0c-190ddc38d8bd",
   "metadata": {},
   "outputs": [
    {
     "name": "stdout",
     "output_type": "stream",
     "text": [
      "[80, 90, 100]\n",
      "[10, 20, 30, 40, 50, 60]\n",
      "[100, 90, 80, 70, 60, 50, 40, 30, 20, 10]\n",
      "[100, 80, 60, 40, 20]\n"
     ]
    }
   ],
   "source": [
    "# slicing with negative indices (inverses)\n",
    "\n",
    "list_slice_6 = num_list[-3:]  # gives the last three elements from the final element\n",
    "print(list_slice_6)\n",
    "\n",
    "list_slice_7 = num_list[:-4]  # gives everything prior to the 4th from last element \n",
    "print(list_slice_7)\n",
    "\n",
    "# to get the list in reverse order put in negative steps\n",
    "list_slice_8 = num_list[::-1]  # starts at the end and gives the steps every one from there \n",
    "print(list_slice_8)\n",
    "\n",
    "list_slice_9 = num_list[::-2]  # every other in the list in reverse order \n",
    "print(list_slice_9)"
   ]
  },
  {
   "cell_type": "code",
   "execution_count": 52,
   "id": "6b647bc0-c559-4fd2-9382-8f4a10cfb720",
   "metadata": {},
   "outputs": [
    {
     "name": "stdout",
     "output_type": "stream",
     "text": [
      "greetings!\n",
      "hello there\n",
      "jordan smith\n",
      "Jordan Smith\n",
      "JORDAN SMITH\n",
      "jordan smith\n",
      "Jordan\n",
      "Jordan Smith\n",
      "Jordan 45 Smith\n",
      "hello there , from Jordan Smith\n",
      "Jordan \t Smith\n",
      "example  \n",
      "example\n",
      "Groceries:\n",
      "\tApples\n",
      "\tBananas\n",
      "\tMilk\n",
      "excessive whitespace\n",
      "3500\n",
      "12\n",
      "900\n",
      "The Zen of Python, by Tim Peters\n",
      "\n",
      "Beautiful is better than ugly.\n",
      "Explicit is better than implicit.\n",
      "Simple is better than complex.\n",
      "Complex is better than complicated.\n",
      "Flat is better than nested.\n",
      "Sparse is better than dense.\n",
      "Readability counts.\n",
      "Special cases aren't special enough to break the rules.\n",
      "Although practicality beats purity.\n",
      "Errors should never pass silently.\n",
      "Unless explicitly silenced.\n",
      "In the face of ambiguity, refuse the temptation to guess.\n",
      "There should be one-- and preferably only one --obvious way to do it.\n",
      "Although that way may not be obvious at first unless you're Dutch.\n",
      "Now is better than never.\n",
      "Although never is often better than *right* now.\n",
      "If the implementation is hard to explain, it's a bad idea.\n",
      "If the implementation is easy to explain, it may be a good idea.\n",
      "Namespaces are one honking great idea -- let's do more of those!\n",
      "['apple', 'banana', 'cherry', 'date']\n",
      "cherry\n",
      "apple\n",
      "date\n",
      "I like to eat banana\n",
      "['apple', 'banana', 'blueberry', 'cherry', 'date']\n",
      "['apple', 'banana', 'blueberry', 'cherry', 'date', 'grape']\n",
      "['apple', 'banana', 'cherry', 'date', 'grape']\n",
      "['tea', 'coffee', 'juice', 'soda']\n",
      "['tea', 'coffee', 'juice']\n",
      "soda\n",
      "My favorite drink is juice\n",
      "I also like soda\n",
      "banana\n",
      "['apple', 'cherry', 'date', 'grape']\n",
      "['laptop', 'tablet', 'watch']\n",
      "['laptop', 'tablet', 'watch']\n",
      "['watch', 'tablet', 'laptop']\n",
      "Original list:\n",
      "['laptop', 'phone', 'tablet', 'watch']\n",
      "Sorted list:\n",
      "['laptop', 'phone', 'tablet', 'watch']\n",
      "Back to original list:\n",
      "['laptop', 'phone', 'tablet', 'watch']\n",
      "['watch', 'tablet', 'phone', 'laptop']\n",
      "3\n"
     ]
    }
   ],
   "source": [
    "print(\"greetings!\")\n",
    "msg = \"hello there\"\n",
    "print(msg)\n",
    "\n",
    "person = \"jordan smith\"\n",
    "print(person)  # this will print as seen\n",
    "print(person.title())  # this will capitalize each word\n",
    "print(person.upper())  # will print in all upper case\n",
    "print(person.lower())  # will print in all lower case - better for info storage\n",
    "\n",
    "# in multiple parts\n",
    "first_name = \"Jordan\"\n",
    "last_name = \"Smith\"\n",
    "full_name = f\"{first_name} {last_name}\"\n",
    "print(first_name)\n",
    "print(full_name)\n",
    "\n",
    "test_string = f\"{first_name} {45} {last_name}\"\n",
    "print(test_string)\n",
    "\n",
    "extended_message = f\"{msg} {\", from\"} {full_name}\"\n",
    "print(extended_message)\n",
    "\n",
    "# whitespace or a \"tab\" - to add an extra space to work\n",
    "print(first_name, \"\\t\", last_name)\n",
    "\n",
    "extra_space = 'example  '\n",
    "print(extra_space)  # has spaces at end\n",
    "print(extra_space.rstrip())  # doesn't\n",
    "\n",
    "print(\"Groceries:\\n\\tApples\\n\\tBananas\\n\\tMilk\")  # need \\t to split words from each other\n",
    "\n",
    "trim_message = msg.rstrip()\n",
    "\n",
    "extra_spaces = ' excessive whitespace '\n",
    "print(extra_spaces.strip())\n",
    "\n",
    "# Math operations\n",
    "# + = addition\n",
    "# * = multiplication\n",
    "# - = subtraction\n",
    "# / = division (always returns a float)\n",
    "# ** = exponentiation\n",
    "# % = modulo (returns remainder)\n",
    "\n",
    "num = 3_500  # 3,500\n",
    "print(num)\n",
    "\n",
    "d, e, f = 8, 12, 5\n",
    "print(e)\n",
    "\n",
    "IMMUTABLE_VALUE = 900\n",
    "print(IMMUTABLE_VALUE)\n",
    "\n",
    "import this\n",
    "\n",
    "# Lists\n",
    "fruits = ['apple', 'banana', 'cherry', 'date']\n",
    "print(fruits)\n",
    "\n",
    "print(fruits[2])  # accessing by index\n",
    "print(fruits[0])\n",
    "print(fruits[-1])\n",
    "\n",
    "statement = f\"I like to eat {fruits[1]}\"\n",
    "print(statement)\n",
    "\n",
    "fruits.insert(2, 'blueberry')\n",
    "print(fruits)\n",
    "\n",
    "fruits.append('grape')\n",
    "print(fruits)\n",
    "\n",
    "del fruits[2]\n",
    "print(fruits)\n",
    "\n",
    "beverages = ['tea', 'coffee', 'juice', 'soda']\n",
    "print(beverages)\n",
    "\n",
    "removed_beverage = beverages.pop()\n",
    "print(beverages)\n",
    "print(removed_beverage)\n",
    "\n",
    "favorite_drink = beverages.pop()\n",
    "print(f\"My favorite drink is {favorite_drink}\")\n",
    "print(f\"I also like {removed_beverage}\")\n",
    "\n",
    "removed_fruit = fruits.pop(1)\n",
    "print(removed_fruit)\n",
    "print(fruits)\n",
    "\n",
    "# Removing specific items\n",
    "items = ['laptop', 'phone', 'tablet', 'watch']\n",
    "expensive_item = 'phone'\n",
    "items.remove(expensive_item)\n",
    "print(items)\n",
    "\n",
    "# Sorting lists\n",
    "items.sort()\n",
    "print(items)\n",
    "\n",
    "items.sort(reverse=True)\n",
    "print(items)\n",
    "\n",
    "items_2 = ['laptop', 'phone', 'tablet', 'watch']\n",
    "print(\"Original list:\")\n",
    "print(items_2)\n",
    "\n",
    "print(\"Sorted list:\")\n",
    "print(sorted(items_2))\n",
    "\n",
    "print(\"Back to original list:\")\n",
    "print(items_2)\n",
    "\n",
    "items_2.reverse()\n",
    "print(items_2)\n",
    "\n",
    "print(len(items))\n"
   ]
  },
  {
   "cell_type": "code",
   "execution_count": null,
   "id": "1e1969ad-3c2e-44ee-bf09-1654b604a65e",
   "metadata": {},
   "outputs": [],
   "source": [
    "#control_flow"
   ]
  },
  {
   "cell_type": "code",
   "execution_count": null,
   "id": "4855f016-eea8-4e3d-b2cf-d29d44f77885",
   "metadata": {},
   "outputs": [],
   "source": []
  },
  {
   "cell_type": "code",
   "execution_count": null,
   "id": "ec903fe5-0fe6-4954-a4c2-9cd3705ac8f6",
   "metadata": {},
   "outputs": [],
   "source": []
  },
  {
   "cell_type": "code",
   "execution_count": null,
   "id": "79d67f11-3286-47f5-8e6d-b6efd49c3193",
   "metadata": {},
   "outputs": [],
   "source": []
  },
  {
   "cell_type": "code",
   "execution_count": null,
   "id": "f3128f81-6640-446e-9633-4fc113ac0767",
   "metadata": {},
   "outputs": [],
   "source": []
  },
  {
   "cell_type": "code",
   "execution_count": null,
   "id": "22c37bf1-5eba-4615-b81c-68e922a2b509",
   "metadata": {},
   "outputs": [],
   "source": []
  },
  {
   "cell_type": "code",
   "execution_count": null,
   "id": "36ccda9e-dab2-43f5-8c62-7f17baf74a7b",
   "metadata": {},
   "outputs": [],
   "source": []
  },
  {
   "cell_type": "code",
   "execution_count": null,
   "id": "30f4a201-3d53-4664-984c-e69d945a025b",
   "metadata": {},
   "outputs": [],
   "source": []
  }
 ],
 "metadata": {
  "kernelspec": {
   "display_name": "Python [conda env:base] *",
   "language": "python",
   "name": "conda-base-py"
  },
  "language_info": {
   "codemirror_mode": {
    "name": "ipython",
    "version": 3
   },
   "file_extension": ".py",
   "mimetype": "text/x-python",
   "name": "python",
   "nbconvert_exporter": "python",
   "pygments_lexer": "ipython3",
   "version": "3.12.7"
  }
 },
 "nbformat": 4,
 "nbformat_minor": 5
}
